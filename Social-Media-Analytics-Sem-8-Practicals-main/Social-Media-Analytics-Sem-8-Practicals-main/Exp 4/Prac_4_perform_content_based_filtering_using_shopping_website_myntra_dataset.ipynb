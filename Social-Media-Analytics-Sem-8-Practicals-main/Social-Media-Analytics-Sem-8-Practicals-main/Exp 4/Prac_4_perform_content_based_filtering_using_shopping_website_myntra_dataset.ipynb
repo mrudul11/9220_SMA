{
  "nbformat": 4,
  "nbformat_minor": 0,
  "metadata": {
    "colab": {
      "provenance": []
    },
    "kernelspec": {
      "name": "python3",
      "display_name": "Python 3"
    },
    "language_info": {
      "name": "python"
    }
  },
  "cells": [
    {
      "cell_type": "code",
      "source": [
        "import pandas as pd\n",
        "from sklearn.feature_extraction.text import TfidfVectorizer\n",
        "from sklearn.metrics.pairwise import cosine_similarity\n",
        "import re"
      ],
      "metadata": {
        "id": "Uqo5a-8Nymss"
      },
      "execution_count": null,
      "outputs": []
    },
    {
      "cell_type": "code",
      "source": [
        "df = pd.read_csv('/content/myntra.csv')"
      ],
      "metadata": {
        "id": "ZKsnAbygynuk"
      },
      "execution_count": null,
      "outputs": []
    },
    {
      "cell_type": "code",
      "source": [
        "# Data Preprocessing\n",
        "# Handling missing values\n",
        "print(\"\\nMissing values before cleaning:\")\n",
        "print(df.isnull().sum())\n",
        "# Drop rows with missing values\n",
        "df.dropna(inplace=True)"
      ],
      "metadata": {
        "id": "YjQ7LYBqyrAX",
        "colab": {
          "base_uri": "https://localhost:8080/"
        },
        "outputId": "3e685635-737a-4f23-fb10-6fe582307d72"
      },
      "execution_count": null,
      "outputs": [
        {
          "output_type": "stream",
          "name": "stdout",
          "text": [
            "\n",
            "Missing values before cleaning:\n",
            "ID          0\n",
            "Name        0\n",
            "Price       0\n",
            "MRP         0\n",
            "Rating      0\n",
            "Total       0\n",
            "Discount    0\n",
            "Seller      0\n",
            "dtype: int64\n"
          ]
        }
      ]
    },
    {
      "cell_type": "code",
      "source": [
        "# Clean the data\n",
        "def clean_text(text):\n",
        "    text = re.sub(r'[^a-zA-Z\\s]', '', text)\n",
        "    text = text.lower()\n",
        "    return text\n",
        "# Apply cleaning function to the 'name' column\n",
        "df['Name'] = df['Name'].apply(clean_text)\n",
        "# Display the first few rows of the cleaned dataframe\n",
        "print(\"\\nCleaned data:\")\n",
        "print(df.head())"
      ],
      "metadata": {
        "id": "43Bj-MGjzbad",
        "colab": {
          "base_uri": "https://localhost:8080/"
        },
        "outputId": "a2f6ff32-d0c2-460c-9bcf-b99a7d90bb70"
      },
      "execution_count": null,
      "outputs": [
        {
          "output_type": "stream",
          "name": "stdout",
          "text": [
            "\n",
            "Cleaned data:\n",
            "   ID                                   Name  Price     MRP  Rating  Total  \\\n",
            "0   1             men solid oversized cotton    532  1299.0     4.1   5300   \n",
            "1   2          men cotton pure cotton tshirt    274   499.0     4.2  25400   \n",
            "2   3               women pure cotton tshirt    551  1199.0     4.5   3400   \n",
            "3   5  printed round neck pure cotton tshirt    494   899.0     4.2   3800   \n",
            "4   6                   boys pack of  tshirt    699  4995.0     4.1   1200   \n",
            "\n",
            "   Discount                 Seller  \n",
            "0        59  Difference of Opinion  \n",
            "1        45               Roadster  \n",
            "2        54              DILLINGER  \n",
            "3        45               Roadster  \n",
            "4        86                HELLCAT  \n"
          ]
        }
      ]
    },
    {
      "cell_type": "code",
      "source": [
        "# Feature Engineering\n",
        "# Convert text features into numerical representations\n",
        "tfidf_vectorizer = TfidfVectorizer(stop_words='english')\n",
        "tfidf_matrix = tfidf_vectorizer.fit_transform(df['Name'])\n",
        "\n",
        "# Compute Item Similarity\n",
        "item_similarity = cosine_similarity(tfidf_matrix, tfidf_matrix)"
      ],
      "metadata": {
        "id": "xv2EoeCXys5T"
      },
      "execution_count": null,
      "outputs": []
    },
    {
      "cell_type": "code",
      "source": [
        "# Recommendation Generation\n",
        "def get_similar_items(item_idx, top_n=5):\n",
        "    sim_scores = list(enumerate(item_similarity[item_idx]))\n",
        "    sim_scores = sorted(sim_scores, key=lambda x: x[1], reverse=True)\n",
        "    top_similar_items = sim_scores[1:top_n+1]  # Exclude the item itself\n",
        "    return top_similar_items"
      ],
      "metadata": {
        "id": "aS3MXThOyyHN"
      },
      "execution_count": null,
      "outputs": []
    },
    {
      "cell_type": "code",
      "execution_count": null,
      "metadata": {
        "id": "TdLiUKX4ylGQ",
        "colab": {
          "base_uri": "https://localhost:8080/"
        },
        "outputId": "0105c971-cd25-48f6-f1fe-6767423ba4a4"
      },
      "outputs": [
        {
          "output_type": "stream",
          "name": "stdout",
          "text": [
            "item:\n",
            "men solid oversized cotton\n",
            "Similar Item: men solid oversized cotton (Similarity Score: 1.0)\n",
            "Similar Item: men solid oversized cotton (Similarity Score: 1.0)\n",
            "Similar Item: cotton oversized tshirt (Similarity Score: 0.7597237790035756)\n",
            "Similar Item: cotton oversized tshirt (Similarity Score: 0.7597237790035756)\n",
            "Similar Item: cotton oversized tshirt (Similarity Score: 0.7597237790035756)\n"
          ]
        }
      ],
      "source": [
        "# Example: Recommend similar items for the item at index 0\n",
        "print('item:')\n",
        "print(df.iloc[0]['Name'])\n",
        "similar_items = get_similar_items(0)\n",
        "for idx, score in similar_items:\n",
        "    print(f\"Similar Item: {df.iloc[idx]['Name']} (Similarity Score: {score})\")"
      ]
    }
  ]
}