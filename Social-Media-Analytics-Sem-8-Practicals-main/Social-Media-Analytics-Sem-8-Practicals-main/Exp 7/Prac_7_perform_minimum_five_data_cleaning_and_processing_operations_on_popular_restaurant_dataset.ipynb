{
  "nbformat": 4,
  "nbformat_minor": 0,
  "metadata": {
    "colab": {
      "provenance": []
    },
    "kernelspec": {
      "name": "python3",
      "display_name": "Python 3"
    },
    "language_info": {
      "name": "python"
    }
  },
  "cells": [
    {
      "cell_type": "code",
      "source": [
        "import pandas as pd\n",
        "df = pd.read_csv('/content/Restaurants.csv')"
      ],
      "metadata": {
        "id": "BKGdTqvVbQm1"
      },
      "execution_count": null,
      "outputs": []
    },
    {
      "cell_type": "code",
      "source": [
        "# Display the first few rows of the dataset\n",
        "print(\"Original Dataset:\")\n",
        "print(df.head())"
      ],
      "metadata": {
        "colab": {
          "base_uri": "https://localhost:8080/"
        },
        "id": "IDqMGi7NbUVH",
        "outputId": "54a8e91d-1cc5-4c65-e92c-6460a8ac8f22"
      },
      "execution_count": null,
      "outputs": [
        {
          "output_type": "stream",
          "name": "stdout",
          "text": [
            "Original Dataset:\n",
            "                             Name  Ratings ReviewCount  \\\n",
            "0                     Quarterdeck      3.9         225   \n",
            "1                            WTF!      4.2       1,075   \n",
            "2                    Cafe Holiday      3.6          29   \n",
            "3  The Cottage Bar - Abbott Hotel      3.6          73   \n",
            "4              The Atrangii House      4.4         653   \n",
            "\n",
            "                            Location  \\\n",
            "0                4 Bungalows, Mumbai   \n",
            "1  7 Bungalows, Andheri West, Mumbai   \n",
            "2  7 Bungalows, Andheri West, Mumbai   \n",
            "3   Abbott Hotel, Vashi, Navi Mumbai   \n",
            "4                Airoli, Navi Mumbai   \n",
            "\n",
            "                                             Cuisine Cost (for two)  \n",
            "0            North Indian, Mughlai, Chinese, Seafood            800  \n",
            "1                 North Indian, Chinese, Continental          1,500  \n",
            "2  Continental, Oriental, American, Fast Food, De...          1,500  \n",
            "3  North Indian, Chinese, Seafood, Continental, M...          1,400  \n",
            "4  North Indian, Chinese, Continental, Asian, Bev...          1,500  \n"
          ]
        }
      ]
    },
    {
      "cell_type": "markdown",
      "source": [
        "Use any 5"
      ],
      "metadata": {
        "id": "x-PdDTLReNIY"
      }
    },
    {
      "cell_type": "code",
      "source": [
        "#1 Remove comma from 'Cost (for two)' column and convert it to integer\n",
        "df['Cost (for two)'] = df['Cost (for two)'].str.replace(',', '').astype(int)"
      ],
      "metadata": {
        "id": "NRaVGvt-dW1K"
      },
      "execution_count": null,
      "outputs": []
    },
    {
      "cell_type": "code",
      "source": [
        "# 2. Remove rows with zero or negative values in 'Cost (for two)' column\n",
        "df = df[df['Cost (for two)'] > 0]"
      ],
      "metadata": {
        "id": "_-ZE3oY6dXhZ"
      },
      "execution_count": null,
      "outputs": []
    },
    {
      "cell_type": "code",
      "source": [
        "# 3. Remove whitespace from 'Location' column\n",
        "df['Location'] = df['Location'].str.strip()"
      ],
      "metadata": {
        "id": "yIE1llZAdYk5"
      },
      "execution_count": null,
      "outputs": []
    },
    {
      "cell_type": "code",
      "source": [
        "# 6. Remove rows with missing values\n",
        "df.dropna(inplace=True)"
      ],
      "metadata": {
        "id": "r5i7sB3ddbrL"
      },
      "execution_count": null,
      "outputs": []
    },
    {
      "cell_type": "code",
      "source": [
        "# 7. Convert 'Cuisine' column to lowercase\n",
        "df['Cuisine'] = df['Cuisine'].str.lower()"
      ],
      "metadata": {
        "id": "fMgLbVltdctS"
      },
      "execution_count": null,
      "outputs": []
    },
    {
      "cell_type": "code",
      "source": [
        "# 8. Remove duplicate rows if any\n",
        "df.drop_duplicates(inplace=True)"
      ],
      "metadata": {
        "id": "DH5RtzKeddzW"
      },
      "execution_count": null,
      "outputs": []
    },
    {
      "cell_type": "code",
      "source": [
        "# 9. Normalize ratings to a scale of 0 to 5\n",
        "df['Ratings'] = df['Ratings'] / 5.0"
      ],
      "metadata": {
        "id": "nRmJgELwdfaK"
      },
      "execution_count": null,
      "outputs": []
    },
    {
      "cell_type": "code",
      "source": [
        "# 11. Remove special characters and symbols from 'Name' column\n",
        "import re\n",
        "df['Name'] = df['Name'].apply(lambda x: re.sub(r'[^a-zA-Z0-9\\s]', '', x))"
      ],
      "metadata": {
        "id": "9EP33LH0dg5r"
      },
      "execution_count": null,
      "outputs": []
    },
    {
      "cell_type": "code",
      "source": [
        "# 12. Extract numeric values from 'Location' column (if any)\n",
        "df['Location'] = df['Location'].str.extract('(\\d+)')"
      ],
      "metadata": {
        "id": "shFNrhTIdibN"
      },
      "execution_count": null,
      "outputs": []
    },
    {
      "cell_type": "code",
      "source": [
        "# 13. Convert 'Cuisine' column to a list of cuisines\n",
        "df['Cuisine'] = df['Cuisine'].str.split(', ')"
      ],
      "metadata": {
        "id": "-RObplw6djey"
      },
      "execution_count": null,
      "outputs": []
    },
    {
      "cell_type": "code",
      "source": [
        "# 14. Standardize 'Location' column by converting it to lowercase\n",
        "df['Location'] = df['Location'].str.lower()"
      ],
      "metadata": {
        "id": "6ASyTUnxdlKl"
      },
      "execution_count": null,
      "outputs": []
    },
    {
      "cell_type": "code",
      "source": [
        "# 15. Remove leading and trailing whitespaces from 'Name' column\n",
        "df['Name'] = df['Name'].str.strip()"
      ],
      "metadata": {
        "id": "0eFnSndednB5"
      },
      "execution_count": null,
      "outputs": []
    },
    {
      "cell_type": "code",
      "source": [
        "# 16. Remove rows with invalid or missing cuisine information\n",
        "df = df[df['Cuisine'].apply(lambda x: isinstance(x, list))]"
      ],
      "metadata": {
        "id": "xjK5QwKYbv2L"
      },
      "execution_count": null,
      "outputs": []
    },
    {
      "cell_type": "code",
      "execution_count": null,
      "metadata": {
        "colab": {
          "base_uri": "https://localhost:8080/"
        },
        "id": "80OMDmdVbAfx",
        "outputId": "a038861a-a03a-40a8-8c79-97d0e5510d73"
      },
      "outputs": [
        {
          "output_type": "stream",
          "name": "stdout",
          "text": [
            "\n",
            "Cleaned Dataset:\n",
            "                            Name  Ratings ReviewCount Location  \\\n",
            "0                    Quarterdeck     0.78         225        4   \n",
            "1                            WTF     0.84       1,075        7   \n",
            "2                   Cafe Holiday     0.72          29        7   \n",
            "3  The Cottage Bar  Abbott Hotel     0.72          73      NaN   \n",
            "4             The Atrangii House     0.88         653      NaN   \n",
            "\n",
            "                                             Cuisine  Cost (for two)  \n",
            "0          [north indian, mughlai, chinese, seafood]             800  \n",
            "1               [north indian, chinese, continental]            1500  \n",
            "2  [continental, oriental, american, fast food, d...            1500  \n",
            "3  [north indian, chinese, seafood, continental, ...            1400  \n",
            "4  [north indian, chinese, continental, asian, be...            1500  \n"
          ]
        }
      ],
      "source": [
        "# Display the cleaned dataset\n",
        "print(\"\\nCleaned Dataset:\")\n",
        "print(df.head())"
      ]
    }
  ]
}